{
 "cells": [
  {
   "cell_type": "code",
   "execution_count": 54,
   "id": "2e5b0bc6-9127-4535-a9a8-37babab7c9b1",
   "metadata": {},
   "outputs": [],
   "source": [
    "import statistics\n",
    "import numpy as np\n",
    "import pandas as pd\n",
    "import xgboost as xgb\n",
    "import seaborn as sns \n",
    "from datetime import datetime\n",
    "import matplotlib.pyplot as plt\n",
    "from sklearn.metrics import accuracy_score\n",
    "from  sklearn.model_selection import train_test_split\n",
    "from sklearn.model_selection import train_test_split,KFold"
   ]
  },
  {
   "cell_type": "markdown",
   "id": "c0608fcd",
   "metadata": {},
   "source": [
    "# **Overview of the data**:"
   ]
  },
  {
   "cell_type": "code",
   "execution_count": 33,
   "id": "dc4f8408-4cf7-4728-bf77-61927caeee0f",
   "metadata": {},
   "outputs": [],
   "source": [
    "pd.set_option('display.max_rows', 500)\n",
    "pd.set_option('display.max_columns', 500)\n",
    "pd.set_option('display.width', 1000)\n",
    "df_1 = pd.read_csv('dataset.csv', sep=\"\\t\", quotechar=\"'\")\n",
    "df_2 = pd.read_csv('dataset_1.csv', sep=\"\\t\", quotechar=\"'\")\n",
    "\n",
    "df_1.drop('frame_number', inplace=True, axis=1)\n",
    "df_2.drop('frame_number', inplace=True, axis=1)\n",
    "\n",
    "df = df_1.append(df_2, ignore_index=True)"
   ]
  },
  {
   "cell_type": "code",
   "execution_count": 34,
   "id": "c07b4729-864a-4491-9407-e6314094169f",
   "metadata": {},
   "outputs": [
    {
     "name": "stdout",
     "output_type": "stream",
     "text": [
      "dataset has the shape : (4968, 15) \n",
      "4968 rows and 15 columns  \n",
      "\n",
      "\n"
     ]
    }
   ],
   "source": [
    "print(\"dataset has the shape : {} \".format(df.shape) )\n",
    "print(\"{} rows and {} columns  \\n\\n\".format(df.shape[0],df.shape[1] ) )"
   ]
  },
  {
   "cell_type": "code",
   "execution_count": 35,
   "id": "234cdf53",
   "metadata": {},
   "outputs": [
    {
     "data": {
      "text/html": [
       "<div>\n",
       "<style scoped>\n",
       "    .dataframe tbody tr th:only-of-type {\n",
       "        vertical-align: middle;\n",
       "    }\n",
       "\n",
       "    .dataframe tbody tr th {\n",
       "        vertical-align: top;\n",
       "    }\n",
       "\n",
       "    .dataframe thead th {\n",
       "        text-align: right;\n",
       "    }\n",
       "</style>\n",
       "<table border=\"1\" class=\"dataframe\">\n",
       "  <thead>\n",
       "    <tr style=\"text-align: right;\">\n",
       "      <th></th>\n",
       "      <th>frame_time_epoch</th>\n",
       "      <th>frame_len</th>\n",
       "      <th>eth_src</th>\n",
       "      <th>device_name_src</th>\n",
       "      <th>eth_dst</th>\n",
       "      <th>device_name_dst</th>\n",
       "      <th>eth_type</th>\n",
       "      <th>ip_src</th>\n",
       "      <th>srcport</th>\n",
       "      <th>ip_dst</th>\n",
       "      <th>dstport</th>\n",
       "      <th>ip_proto</th>\n",
       "      <th>payload_utf8</th>\n",
       "      <th>action</th>\n",
       "      <th>attack</th>\n",
       "    </tr>\n",
       "  </thead>\n",
       "  <tbody>\n",
       "    <tr>\n",
       "      <th>0</th>\n",
       "      <td>1.674747e+09</td>\n",
       "      <td>66</td>\n",
       "      <td>04:CF:4B:3B:00:58</td>\n",
       "      <td>NaN</td>\n",
       "      <td>0E:F2:26:7D:04:1A</td>\n",
       "      <td>NaN</td>\n",
       "      <td>0x0800</td>\n",
       "      <td>18.196.142.136</td>\n",
       "      <td>8883.0</td>\n",
       "      <td>192.168.12.148</td>\n",
       "      <td>38462.0</td>\n",
       "      <td>6.0</td>\n",
       "      <td>NaN</td>\n",
       "      <td>NaN</td>\n",
       "      <td>NaN</td>\n",
       "    </tr>\n",
       "    <tr>\n",
       "      <th>1</th>\n",
       "      <td>1.674747e+09</td>\n",
       "      <td>303</td>\n",
       "      <td>A8:03:2A:B1:35:60</td>\n",
       "      <td>NaN</td>\n",
       "      <td>04:CF:4B:3B:00:58</td>\n",
       "      <td>NaN</td>\n",
       "      <td>0x0800</td>\n",
       "      <td>192.168.12.80</td>\n",
       "      <td>51705.0</td>\n",
       "      <td>34.140.193.14</td>\n",
       "      <td>6022.0</td>\n",
       "      <td>6.0</td>\n",
       "      <td>\u0017\u0003\u0003</td>\n",
       "      <td>NaN</td>\n",
       "      <td>NaN</td>\n",
       "    </tr>\n",
       "    <tr>\n",
       "      <th>2</th>\n",
       "      <td>1.674747e+09</td>\n",
       "      <td>66</td>\n",
       "      <td>0E:F2:26:7D:04:1A</td>\n",
       "      <td>NaN</td>\n",
       "      <td>04:CF:4B:3B:00:58</td>\n",
       "      <td>NaN</td>\n",
       "      <td>0x0800</td>\n",
       "      <td>192.168.12.148</td>\n",
       "      <td>38462.0</td>\n",
       "      <td>18.196.142.136</td>\n",
       "      <td>8883.0</td>\n",
       "      <td>6.0</td>\n",
       "      <td>NaN</td>\n",
       "      <td>NaN</td>\n",
       "      <td>NaN</td>\n",
       "    </tr>\n",
       "    <tr>\n",
       "      <th>3</th>\n",
       "      <td>1.674747e+09</td>\n",
       "      <td>54</td>\n",
       "      <td>04:CF:4B:3B:00:58</td>\n",
       "      <td>NaN</td>\n",
       "      <td>A8:03:2A:B1:35:60</td>\n",
       "      <td>NaN</td>\n",
       "      <td>0x0800</td>\n",
       "      <td>34.140.193.14</td>\n",
       "      <td>6022.0</td>\n",
       "      <td>192.168.12.80</td>\n",
       "      <td>51705.0</td>\n",
       "      <td>6.0</td>\n",
       "      <td>NaN</td>\n",
       "      <td>NaN</td>\n",
       "      <td>NaN</td>\n",
       "    </tr>\n",
       "    <tr>\n",
       "      <th>4</th>\n",
       "      <td>1.674747e+09</td>\n",
       "      <td>128</td>\n",
       "      <td>0E:F2:26:7D:04:1A</td>\n",
       "      <td>NaN</td>\n",
       "      <td>FF:FF:FF:FF:FF:FF</td>\n",
       "      <td>NaN</td>\n",
       "      <td>0x0800</td>\n",
       "      <td>192.168.12.148</td>\n",
       "      <td>52149.0</td>\n",
       "      <td>255.255.255.255</td>\n",
       "      <td>7000.0</td>\n",
       "      <td>17.0</td>\n",
       "      <td>NaN</td>\n",
       "      <td>NaN</td>\n",
       "      <td>NaN</td>\n",
       "    </tr>\n",
       "  </tbody>\n",
       "</table>\n",
       "</div>"
      ],
      "text/plain": [
       "   frame_time_epoch  frame_len            eth_src device_name_src            eth_dst device_name_dst eth_type          ip_src  srcport           ip_dst  dstport  ip_proto payload_utf8 action attack\n",
       "0      1.674747e+09         66  04:CF:4B:3B:00:58             NaN  0E:F2:26:7D:04:1A             NaN   0x0800  18.196.142.136   8883.0   192.168.12.148  38462.0       6.0          NaN    NaN    NaN\n",
       "1      1.674747e+09        303  A8:03:2A:B1:35:60             NaN  04:CF:4B:3B:00:58             NaN   0x0800   192.168.12.80  51705.0    34.140.193.14   6022.0       6.0          \u0017\u0003\u0003    NaN    NaN\n",
       "2      1.674747e+09         66  0E:F2:26:7D:04:1A             NaN  04:CF:4B:3B:00:58             NaN   0x0800  192.168.12.148  38462.0   18.196.142.136   8883.0       6.0          NaN    NaN    NaN\n",
       "3      1.674747e+09         54  04:CF:4B:3B:00:58             NaN  A8:03:2A:B1:35:60             NaN   0x0800   34.140.193.14   6022.0    192.168.12.80  51705.0       6.0          NaN    NaN    NaN\n",
       "4      1.674747e+09        128  0E:F2:26:7D:04:1A             NaN  FF:FF:FF:FF:FF:FF             NaN   0x0800  192.168.12.148  52149.0  255.255.255.255   7000.0      17.0          NaN    NaN    NaN"
      ]
     },
     "execution_count": 35,
     "metadata": {},
     "output_type": "execute_result"
    }
   ],
   "source": [
    "df.head()"
   ]
  },
  {
   "cell_type": "code",
   "execution_count": 36,
   "id": "30a792ff",
   "metadata": {},
   "outputs": [
    {
     "name": "stdout",
     "output_type": "stream",
     "text": [
      "The dataset has 5 numerical features and 10 Categorigcal features \n"
     ]
    }
   ],
   "source": [
    "numerics = ['int16', 'int32', 'int64', 'float16', 'float32', 'float64']\n",
    "\n",
    "df_num = df.select_dtypes(include=numerics)\n",
    "df_cat = df.select_dtypes(include=\"object\")\n",
    "print(\"The dataset has {} numerical features and {} Categorigcal features \".format( len(df_num.columns), len(df_cat.columns)  ) )\n"
   ]
  },
  {
   "cell_type": "code",
   "execution_count": 37,
   "id": "93cb9686",
   "metadata": {},
   "outputs": [
    {
     "data": {
      "text/plain": [
       "Index(['frame_time_epoch', 'frame_len', 'srcport', 'dstport', 'ip_proto'], dtype='object')"
      ]
     },
     "execution_count": 37,
     "metadata": {},
     "output_type": "execute_result"
    }
   ],
   "source": [
    "df_num.columns"
   ]
  },
  {
   "cell_type": "code",
   "execution_count": 38,
   "id": "c99709d0",
   "metadata": {},
   "outputs": [
    {
     "data": {
      "text/plain": [
       "Index(['eth_src', 'device_name_src', 'eth_dst', 'device_name_dst', 'eth_type', 'ip_src', 'ip_dst', 'payload_utf8', 'action', 'attack'], dtype='object')"
      ]
     },
     "execution_count": 38,
     "metadata": {},
     "output_type": "execute_result"
    }
   ],
   "source": [
    "df_cat.columns"
   ]
  },
  {
   "cell_type": "markdown",
   "id": "e2e21807",
   "metadata": {},
   "source": [
    "# **Missing data**:"
   ]
  },
  {
   "cell_type": "code",
   "execution_count": 39,
   "id": "938c6a56",
   "metadata": {},
   "outputs": [
    {
     "data": {
      "image/png": "[encoded data removed]",
      "text/plain": [
       "<Figure size 720x432 with 1 Axes>"
      ]
     },
     "metadata": {
      "needs_background": "light"
     },
     "output_type": "display_data"
    }
   ],
   "source": [
    "( df.isnull().sum() * 100 / len(df) ).to_frame(name='percent_missing').query('percent_missing>0').sort_values(by='percent_missing', ascending=True).plot.barh( figsize=(10,6));"
   ]
  },
  {
   "cell_type": "code",
   "execution_count": 40,
   "id": "56f14e0e",
   "metadata": {},
   "outputs": [
    {
     "data": {
      "text/plain": [
       "<AxesSubplot:title={'center':'Percent for each attack type'}>"
      ]
     },
     "execution_count": 40,
     "metadata": {},
     "output_type": "execute_result"
    },
    {
     "data": {
      "image/png": "[encoded data removed]",
      "text/plain": [
       "<Figure size 1008x576 with 1 Axes>"
      ]
     },
     "metadata": {
      "needs_background": "light"
     },
     "output_type": "display_data"
    }
   ],
   "source": [
    "df.attack.value_counts(normalize=True).plot(kind='bar' , figsize=(14,8),\n",
    "                                    title=\"Percent for each attack type\")"
   ]
  },
  {
   "cell_type": "markdown",
   "id": "fa6865af",
   "metadata": {},
   "source": [
    "# **Binary classification**:"
   ]
  },
  {
   "cell_type": "code",
   "execution_count": 41,
   "id": "307f1610",
   "metadata": {},
   "outputs": [],
   "source": [
    "# Remove unnecessary columns\n",
    "columns_to_remove = ['frame_time_epoch','eth_src','device_name_src','eth_dst','device_name_dst','ip_src',\n",
    "                    'ip_dst','payload_utf8','action']\n",
    "\n",
    "df.drop(columns_to_remove, axis=1, inplace=True)"
   ]
  },
  {
   "cell_type": "code",
   "execution_count": 13,
   "id": "d4c01fd0",
   "metadata": {},
   "outputs": [
    {
     "data": {
      "text/html": [
       "<div>\n",
       "<style scoped>\n",
       "    .dataframe tbody tr th:only-of-type {\n",
       "        vertical-align: middle;\n",
       "    }\n",
       "\n",
       "    .dataframe tbody tr th {\n",
       "        vertical-align: top;\n",
       "    }\n",
       "\n",
       "    .dataframe thead th {\n",
       "        text-align: right;\n",
       "    }\n",
       "</style>\n",
       "<table border=\"1\" class=\"dataframe\">\n",
       "  <thead>\n",
       "    <tr style=\"text-align: right;\">\n",
       "      <th></th>\n",
       "      <th>frame_len</th>\n",
       "      <th>eth_type</th>\n",
       "      <th>srcport</th>\n",
       "      <th>dstport</th>\n",
       "      <th>ip_proto</th>\n",
       "      <th>attack</th>\n",
       "    </tr>\n",
       "  </thead>\n",
       "  <tbody>\n",
       "    <tr>\n",
       "      <th>0</th>\n",
       "      <td>66</td>\n",
       "      <td>0x0800</td>\n",
       "      <td>8883.0</td>\n",
       "      <td>38462.0</td>\n",
       "      <td>6.0</td>\n",
       "      <td>NaN</td>\n",
       "    </tr>\n",
       "    <tr>\n",
       "      <th>1</th>\n",
       "      <td>303</td>\n",
       "      <td>0x0800</td>\n",
       "      <td>51705.0</td>\n",
       "      <td>6022.0</td>\n",
       "      <td>6.0</td>\n",
       "      <td>NaN</td>\n",
       "    </tr>\n",
       "    <tr>\n",
       "      <th>2</th>\n",
       "      <td>66</td>\n",
       "      <td>0x0800</td>\n",
       "      <td>38462.0</td>\n",
       "      <td>8883.0</td>\n",
       "      <td>6.0</td>\n",
       "      <td>NaN</td>\n",
       "    </tr>\n",
       "    <tr>\n",
       "      <th>3</th>\n",
       "      <td>54</td>\n",
       "      <td>0x0800</td>\n",
       "      <td>6022.0</td>\n",
       "      <td>51705.0</td>\n",
       "      <td>6.0</td>\n",
       "      <td>NaN</td>\n",
       "    </tr>\n",
       "    <tr>\n",
       "      <th>4</th>\n",
       "      <td>128</td>\n",
       "      <td>0x0800</td>\n",
       "      <td>52149.0</td>\n",
       "      <td>7000.0</td>\n",
       "      <td>17.0</td>\n",
       "      <td>NaN</td>\n",
       "    </tr>\n",
       "  </tbody>\n",
       "</table>\n",
       "</div>"
      ],
      "text/plain": [
       "   frame_len eth_type  srcport  dstport  ip_proto attack\n",
       "0         66   0x0800   8883.0  38462.0       6.0    NaN\n",
       "1        303   0x0800  51705.0   6022.0       6.0    NaN\n",
       "2         66   0x0800  38462.0   8883.0       6.0    NaN\n",
       "3         54   0x0800   6022.0  51705.0       6.0    NaN\n",
       "4        128   0x0800  52149.0   7000.0      17.0    NaN"
      ]
     },
     "execution_count": 13,
     "metadata": {},
     "output_type": "execute_result"
    }
   ],
   "source": [
    "df.head()"
   ]
  },
  {
   "cell_type": "code",
   "execution_count": 42,
   "id": "1b0307c4",
   "metadata": {},
   "outputs": [],
   "source": [
    "# Convert the attack column into binary column \n",
    "df['attack'] = df['attack'].fillna(0)\n",
    "df['attack'] = np.where(df['attack'] != 0, 1, df['attack'])\n",
    "df['attack'] = df['attack'].astype(int)"
   ]
  },
  {
   "cell_type": "code",
   "execution_count": 43,
   "id": "4c3fe829",
   "metadata": {},
   "outputs": [
    {
     "data": {
      "text/plain": [
       "<AxesSubplot:title={'center':'Percent for each attack type'}>"
      ]
     },
     "execution_count": 43,
     "metadata": {},
     "output_type": "execute_result"
    },
    {
     "data": {
      "image/png": "[encoded data removed]",
      "text/plain": [
       "<Figure size 1008x576 with 1 Axes>"
      ]
     },
     "metadata": {
      "needs_background": "light"
     },
     "output_type": "display_data"
    }
   ],
   "source": [
    "df.attack.value_counts(normalize=True).plot(kind='bar' , figsize=(14,8),\n",
    "                                    title=\"Percent for each attack type\")"
   ]
  },
  {
   "cell_type": "code",
   "execution_count": 44,
   "id": "cec0ebe9",
   "metadata": {},
   "outputs": [
    {
     "data": {
      "text/plain": [
       "(4968, 6)"
      ]
     },
     "execution_count": 44,
     "metadata": {},
     "output_type": "execute_result"
    }
   ],
   "source": [
    "df.shape"
   ]
  },
  {
   "cell_type": "code",
   "execution_count": 45,
   "id": "f01ea7d4",
   "metadata": {},
   "outputs": [
    {
     "name": "stdout",
     "output_type": "stream",
     "text": [
      "The dataset has 5 numerical features and 1 Categorigcal features \n"
     ]
    }
   ],
   "source": [
    "numerics = ['int16', 'int32', 'int64', 'float16', 'float32', 'float64']\n",
    "\n",
    "df_num = df.select_dtypes(include=numerics)\n",
    "df_cat = df.select_dtypes(include=\"object\")\n",
    "print(\"The dataset has {} numerical features and {} Categorigcal features \".format( len(df_num.columns), len(df_cat.columns)  ) )\n"
   ]
  },
  {
   "cell_type": "code",
   "execution_count": 46,
   "id": "e48fd4a8",
   "metadata": {},
   "outputs": [
    {
     "data": {
      "text/plain": [
       "Index(['frame_len', 'srcport', 'dstport', 'ip_proto', 'attack'], dtype='object')"
      ]
     },
     "execution_count": 46,
     "metadata": {},
     "output_type": "execute_result"
    }
   ],
   "source": [
    "df_num.columns"
   ]
  },
  {
   "cell_type": "code",
   "execution_count": 47,
   "id": "f57aacec",
   "metadata": {},
   "outputs": [
    {
     "data": {
      "text/plain": [
       "Index(['eth_type'], dtype='object')"
      ]
     },
     "execution_count": 47,
     "metadata": {},
     "output_type": "execute_result"
    }
   ],
   "source": [
    "df_cat.columns"
   ]
  },
  {
   "cell_type": "code",
   "execution_count": 48,
   "id": "7cb5156f",
   "metadata": {},
   "outputs": [
    {
     "data": {
      "text/plain": [
       "array(['0x0800', '0x0806'], dtype=object)"
      ]
     },
     "execution_count": 48,
     "metadata": {},
     "output_type": "execute_result"
    }
   ],
   "source": [
    "df[\"eth_type\"].unique()"
   ]
  },
  {
   "cell_type": "code",
   "execution_count": 49,
   "id": "0d82c371",
   "metadata": {},
   "outputs": [
    {
     "data": {
      "text/html": [
       "<div>\n",
       "<style scoped>\n",
       "    .dataframe tbody tr th:only-of-type {\n",
       "        vertical-align: middle;\n",
       "    }\n",
       "\n",
       "    .dataframe tbody tr th {\n",
       "        vertical-align: top;\n",
       "    }\n",
       "\n",
       "    .dataframe thead th {\n",
       "        text-align: right;\n",
       "    }\n",
       "</style>\n",
       "<table border=\"1\" class=\"dataframe\">\n",
       "  <thead>\n",
       "    <tr style=\"text-align: right;\">\n",
       "      <th></th>\n",
       "      <th>frame_len</th>\n",
       "      <th>srcport</th>\n",
       "      <th>dstport</th>\n",
       "      <th>ip_proto</th>\n",
       "      <th>attack</th>\n",
       "      <th>0x0800</th>\n",
       "      <th>0x0806</th>\n",
       "    </tr>\n",
       "  </thead>\n",
       "  <tbody>\n",
       "    <tr>\n",
       "      <th>0</th>\n",
       "      <td>66</td>\n",
       "      <td>8883.0</td>\n",
       "      <td>38462.0</td>\n",
       "      <td>6.0</td>\n",
       "      <td>0</td>\n",
       "      <td>1</td>\n",
       "      <td>0</td>\n",
       "    </tr>\n",
       "    <tr>\n",
       "      <th>1</th>\n",
       "      <td>303</td>\n",
       "      <td>51705.0</td>\n",
       "      <td>6022.0</td>\n",
       "      <td>6.0</td>\n",
       "      <td>0</td>\n",
       "      <td>1</td>\n",
       "      <td>0</td>\n",
       "    </tr>\n",
       "    <tr>\n",
       "      <th>2</th>\n",
       "      <td>66</td>\n",
       "      <td>38462.0</td>\n",
       "      <td>8883.0</td>\n",
       "      <td>6.0</td>\n",
       "      <td>0</td>\n",
       "      <td>1</td>\n",
       "      <td>0</td>\n",
       "    </tr>\n",
       "    <tr>\n",
       "      <th>3</th>\n",
       "      <td>54</td>\n",
       "      <td>6022.0</td>\n",
       "      <td>51705.0</td>\n",
       "      <td>6.0</td>\n",
       "      <td>0</td>\n",
       "      <td>1</td>\n",
       "      <td>0</td>\n",
       "    </tr>\n",
       "    <tr>\n",
       "      <th>4</th>\n",
       "      <td>128</td>\n",
       "      <td>52149.0</td>\n",
       "      <td>7000.0</td>\n",
       "      <td>17.0</td>\n",
       "      <td>0</td>\n",
       "      <td>1</td>\n",
       "      <td>0</td>\n",
       "    </tr>\n",
       "  </tbody>\n",
       "</table>\n",
       "</div>"
      ],
      "text/plain": [
       "   frame_len  srcport  dstport  ip_proto  attack  0x0800  0x0806\n",
       "0         66   8883.0  38462.0       6.0       0       1       0\n",
       "1        303  51705.0   6022.0       6.0       0       1       0\n",
       "2         66  38462.0   8883.0       6.0       0       1       0\n",
       "3         54   6022.0  51705.0       6.0       0       1       0\n",
       "4        128  52149.0   7000.0      17.0       0       1       0"
      ]
     },
     "execution_count": 49,
     "metadata": {},
     "output_type": "execute_result"
    }
   ],
   "source": [
    "# Get one hot encoding of columns eth_type\n",
    "one_hot = pd.get_dummies(df['eth_type'])\n",
    "# Drop column eth_type as it is now encoded\n",
    "df = df.drop('eth_type',axis = 1)\n",
    "# Join the encoded df\n",
    "df = df.join(one_hot)\n",
    "df.head()"
   ]
  },
  {
   "cell_type": "code",
   "execution_count": 50,
   "id": "3bae8405",
   "metadata": {},
   "outputs": [
    {
     "data": {
      "text/plain": [
       "array([ 6., 17., nan])"
      ]
     },
     "execution_count": 50,
     "metadata": {},
     "output_type": "execute_result"
    }
   ],
   "source": [
    "df['ip_proto'].unique()"
   ]
  },
  {
   "cell_type": "code",
   "execution_count": 51,
   "id": "e9656541",
   "metadata": {},
   "outputs": [
    {
     "data": {
      "image/png": "[encoded data removed]",
      "text/plain": [
       "<Figure size 2160x504 with 1 Axes>"
      ]
     },
     "metadata": {
      "needs_background": "light"
     },
     "output_type": "display_data"
    }
   ],
   "source": [
    "# Plot the relationship between two categorical columns\n",
    "plt.figure(figsize=(30, 7))\n",
    "sns.countplot(x='dstport', hue='attack', data=df)\n",
    "plt.show()"
   ]
  },
  {
   "cell_type": "code",
   "execution_count": 52,
   "id": "1b83d883",
   "metadata": {},
   "outputs": [],
   "source": [
    "X = df[['frame_len','srcport','dstport','ip_proto','0x0800','0x0806']]\n",
    "Y = df[['attack']]"
   ]
  },
  {
   "cell_type": "code",
   "execution_count": 53,
   "id": "8e679a3c",
   "metadata": {},
   "outputs": [
    {
     "data": {
      "text/html": [
       "<div>\n",
       "<style scoped>\n",
       "    .dataframe tbody tr th:only-of-type {\n",
       "        vertical-align: middle;\n",
       "    }\n",
       "\n",
       "    .dataframe tbody tr th {\n",
       "        vertical-align: top;\n",
       "    }\n",
       "\n",
       "    .dataframe thead th {\n",
       "        text-align: right;\n",
       "    }\n",
       "</style>\n",
       "<table border=\"1\" class=\"dataframe\">\n",
       "  <thead>\n",
       "    <tr style=\"text-align: right;\">\n",
       "      <th></th>\n",
       "      <th>attack</th>\n",
       "    </tr>\n",
       "  </thead>\n",
       "  <tbody>\n",
       "    <tr>\n",
       "      <th>0</th>\n",
       "      <td>0</td>\n",
       "    </tr>\n",
       "    <tr>\n",
       "      <th>1</th>\n",
       "      <td>0</td>\n",
       "    </tr>\n",
       "    <tr>\n",
       "      <th>2</th>\n",
       "      <td>0</td>\n",
       "    </tr>\n",
       "    <tr>\n",
       "      <th>3</th>\n",
       "      <td>0</td>\n",
       "    </tr>\n",
       "    <tr>\n",
       "      <th>4</th>\n",
       "      <td>0</td>\n",
       "    </tr>\n",
       "  </tbody>\n",
       "</table>\n",
       "</div>"
      ],
      "text/plain": [
       "   attack\n",
       "0       0\n",
       "1       0\n",
       "2       0\n",
       "3       0\n",
       "4       0"
      ]
     },
     "execution_count": 53,
     "metadata": {},
     "output_type": "execute_result"
    }
   ],
   "source": [
    "Y.head()"
   ]
  },
  {
   "cell_type": "code",
   "execution_count": 56,
   "id": "a110cdcf",
   "metadata": {},
   "outputs": [],
   "source": [
    "x_train, x_test, y_train, y_test = train_test_split(X, Y, test_size=0.2, random_state=65)"
   ]
  },
  {
   "cell_type": "code",
   "execution_count": 69,
   "id": "854a4662",
   "metadata": {},
   "outputs": [],
   "source": [
    "# XGBoost (different learning rate)\n",
    "learning_rate_range = np.arange(0.01, 1, 0.05)\n",
    "test_XG = [] \n",
    "train_XG = []\n",
    "lernrate = []\n",
    "for lr in learning_rate_range:\n",
    "    xgb_classifier = xgb.XGBClassifier(eta = lr)\n",
    "    xgb_classifier.fit(x_train, y_train)\n",
    "    lernrate.append(lr)\n",
    "    train_XG.append(xgb_classifier.score(x_train, y_train))\n",
    "    test_XG.append(xgb_classifier.score(x_test, y_test)) "
   ]
  },
  {
   "cell_type": "code",
   "execution_count": 70,
   "id": "54a53167",
   "metadata": {},
   "outputs": [
    {
     "data": {
      "image/png": "[encoded data removed]",
      "text/plain": [
       "<Figure size 720x504 with 1 Axes>"
      ]
     },
     "metadata": {
      "needs_background": "light"
     },
     "output_type": "display_data"
    }
   ],
   "source": [
    "fig = plt.figure(figsize=(10, 7))\n",
    "ax = fig.add_subplot(111)\n",
    "ax.plot(learning_rate_range, train_XG, c='orange', label='Train')\n",
    "ax.plot(learning_rate_range, test_XG, c='m', label='Test')\n",
    "ax.set_xlabel('Learning rate')\n",
    "ax.set_xticks(learning_rate_range)\n",
    "ax.set_ylabel('Accuracy score')\n",
    "ax.set_ylim(0.6, 1)\n",
    "ax.legend(prop={'size': 12}, loc=3)\n",
    "ax.set_title('Accuracy score vs. Learning rate of XGBoost', size=14)\n",
    "plt.show()"
   ]
  },
  {
   "cell_type": "markdown",
   "id": "75976314",
   "metadata": {},
   "source": [
    "Training with cross validation "
   ]
  },
  {
   "cell_type": "code",
   "execution_count": 68,
   "id": "116d419c",
   "metadata": {},
   "outputs": [
    {
     "name": "stdout",
     "output_type": "stream",
     "text": [
      "Mean accuracy: 90.46% (1.26%)\n",
      "[('frame_len', 520.0), ('srcport', 382.0), ('dstport', 352.0), ('ip_proto', 22.0)]\n",
      "Test Accuracy: 90.95%\n"
     ]
    }
   ],
   "source": [
    "# Split the data into training and testing sets\n",
    "X_train, X_test, y_train, y_test = train_test_split(X, Y, test_size=0.2, random_state=0)\n",
    "\n",
    "# Define the XGBoost model\n",
    "model = xgb.XGBClassifier()\n",
    "\n",
    "# Define the cross-validation scheme\n",
    "kfold = KFold(n_splits=10)\n",
    "\n",
    "# Train the model using cross-validation\n",
    "results = []\n",
    "for train_index, test_index in kfold.split(X_train):\n",
    "    model.fit(X_train.iloc[train_index], y_train.iloc[train_index])\n",
    "    y_pred = model.predict(X_train.iloc[test_index])\n",
    "    accuracy = accuracy_score(y_train.iloc[test_index], y_pred)\n",
    "    results.append(accuracy)\n",
    "\n",
    "mean_accuracy = statistics.mean(results)\n",
    "print(\"Mean accuracy: %.2f%% (%.2f%%)\" % (mean_accuracy * 100, statistics.stdev(results) * 100))\n",
    "\n",
    "\n",
    "# Train the model on the full training data\n",
    "model.fit(X_train, y_train)\n",
    "\n",
    "\n",
    "importance = model.get_booster().get_score(importance_type=\"weight\")\n",
    "importance = sorted(importance.items(), key=lambda x: x[1], reverse=True)\n",
    "features = [item[0] for item in importance]\n",
    "print(importance)\n",
    "\n",
    "# Make predictions on the test data\n",
    "y_pred = model.predict(X_test)\n",
    "\n",
    "# Print the accuracy of the model on the test data\n",
    "accuracy = accuracy_score(y_test, y_pred)\n",
    "print(\"Test Accuracy: %.2f%%\" % (accuracy * 100.0))"
   ]
  },
  {
   "cell_type": "code",
   "execution_count": null,
   "id": "d9e507c9",
   "metadata": {},
   "outputs": [],
   "source": []
  }
 ],
 "metadata": {
  "kernelspec": {
   "display_name": "Python 3 (ipykernel)",
   "language": "python",
   "name": "python3"
  },
  "language_info": {
   "codemirror_mode": {
    "name": "ipython",
    "version": 3
   },
   "file_extension": ".py",
   "mimetype": "text/x-python",
   "name": "python",
   "nbconvert_exporter": "python",
   "pygments_lexer": "ipython3",
   "version": "3.9.7"
  }
 },
 "nbformat": 4,
 "nbformat_minor": 5
}
